{
 "cells": [
  {
   "cell_type": "markdown",
   "metadata": {},
   "source": [
    "# Import libraries necessary for this dissertation"
   ]
  },
  {
   "cell_type": "code",
   "execution_count": 1,
   "metadata": {},
   "outputs": [],
   "source": [
    "from sklearn.metrics import precision_score, recall_score, confusion_matrix, classification_report, accuracy_score, f1_score\n",
    "import numpy as np\n",
    "import pandas as pd\n",
    "import matplotlib.pyplot as plt\n",
    "from matplotlib import style\n",
    "import datetime as dt1  # Standard datetime as dt1\n",
    "from datetime import datetime as dt  # datetime.datetime as dt\n",
    "import warnings\n",
    "from matplotlib import pyplot\n",
    "#from pandas import read_csv, set_option\n",
    "from pandas import Series  # Only import Series, not datetime\n",
    "from pandas.plotting import scatter_matrix, autocorrelation_plot  # Fixed path\n",
    "from sklearn.preprocessing import StandardScaler\n",
    "from sklearn.model_selection import train_test_split, KFold, cross_val_score, GridSearchCV, TimeSeriesSplit\n",
    "from sklearn.metrics import classification_report, confusion_matrix, accuracy_score, mean_squared_error\n",
    "from sklearn.pipeline import Pipeline\n",
    "from sklearn.linear_model import LogisticRegression\n",
    "from sklearn.tree import DecisionTreeClassifier\n",
    "from sklearn.neighbors import KNeighborsClassifier\n",
    "from sklearn.discriminant_analysis import LinearDiscriminantAnalysis\n",
    "from sklearn.discriminant_analysis import QuadraticDiscriminantAnalysis \n",
    "from sklearn.naive_bayes import GaussianNB\n",
    "from sklearn.svm import SVC\n",
    "from sklearn.ensemble import AdaBoostClassifier, GradientBoostingClassifier, RandomForestClassifier, ExtraTreesClassifier\n",
    "from sklearn.metrics import roc_curve, auc\n",
    "import random\n",
    "from statsmodels.graphics.tsaplots import plot_acf, plot_pacf\n",
    "import statsmodels.api as sm\n",
    "from xgboost import XGBClassifier\n",
    "import seaborn as sns\n"
   ]
  },
  {
   "cell_type": "markdown",
   "metadata": {},
   "source": [
    "# Loading Data"
   ]
  },
  {
   "cell_type": "code",
   "execution_count": 2,
   "metadata": {},
   "outputs": [],
   "source": [
    "df=pd.read_csv(\"Data/Processed Data/new_final_data_daily.csv\")"
   ]
  },
  {
   "cell_type": "code",
   "execution_count": 3,
   "metadata": {},
   "outputs": [
    {
     "data": {
      "text/plain": [
       "Index(['gold_price', 'Time', 'price', 'Estimated_transaction_volume',\n",
       "       'market capitalisation', 'block_size', 'number_of_transaction',\n",
       "       'Mempool_count', 'Mempool_size', 'Confirmed_Transaction',\n",
       "       'google_trend', 'mining_difficulty', 'hash_rate_via_BTC',\n",
       "       'Transaction_fee'],\n",
       "      dtype='object')"
      ]
     },
     "execution_count": 3,
     "metadata": {},
     "output_type": "execute_result"
    }
   ],
   "source": [
    "df.columns"
   ]
  },
  {
   "cell_type": "markdown",
   "metadata": {},
   "source": [
    "# Data Cleaning"
   ]
  },
  {
   "cell_type": "code",
   "execution_count": 4,
   "metadata": {},
   "outputs": [],
   "source": [
    "df['Time'] = pd.to_datetime(df['Time'])"
   ]
  },
  {
   "cell_type": "code",
   "execution_count": 5,
   "metadata": {
    "scrolled": true
   },
   "outputs": [
    {
     "data": {
      "text/html": [
       "<div>\n",
       "<style scoped>\n",
       "    .dataframe tbody tr th:only-of-type {\n",
       "        vertical-align: middle;\n",
       "    }\n",
       "\n",
       "    .dataframe tbody tr th {\n",
       "        vertical-align: top;\n",
       "    }\n",
       "\n",
       "    .dataframe thead th {\n",
       "        text-align: right;\n",
       "    }\n",
       "</style>\n",
       "<table border=\"1\" class=\"dataframe\">\n",
       "  <thead>\n",
       "    <tr style=\"text-align: right;\">\n",
       "      <th></th>\n",
       "      <th>gold_price</th>\n",
       "      <th>Time</th>\n",
       "      <th>price</th>\n",
       "      <th>Estimated_transaction_volume</th>\n",
       "      <th>market capitalisation</th>\n",
       "      <th>block_size</th>\n",
       "      <th>number_of_transaction</th>\n",
       "      <th>Mempool_count</th>\n",
       "      <th>Mempool_size</th>\n",
       "      <th>Confirmed_Transaction</th>\n",
       "      <th>google_trend</th>\n",
       "      <th>mining_difficulty</th>\n",
       "      <th>hash_rate_via_BTC</th>\n",
       "      <th>Transaction_fee</th>\n",
       "    </tr>\n",
       "  </thead>\n",
       "  <tbody>\n",
       "    <tr>\n",
       "      <th>0</th>\n",
       "      <td>143.95</td>\n",
       "      <td>2020-01-02</td>\n",
       "      <td>6967.0</td>\n",
       "      <td>632780.0</td>\n",
       "      <td>1.304230e+11</td>\n",
       "      <td>0.794684</td>\n",
       "      <td>287215.0</td>\n",
       "      <td>1716.744792</td>\n",
       "      <td>6.258790e+05</td>\n",
       "      <td>287215.0</td>\n",
       "      <td>26</td>\n",
       "      <td>1.379878e+13</td>\n",
       "      <td>1.057932e+08</td>\n",
       "      <td>0.313629</td>\n",
       "    </tr>\n",
       "    <tr>\n",
       "      <th>1</th>\n",
       "      <td>145.86</td>\n",
       "      <td>2020-01-03</td>\n",
       "      <td>7343.1</td>\n",
       "      <td>936290.0</td>\n",
       "      <td>1.262808e+11</td>\n",
       "      <td>0.794684</td>\n",
       "      <td>287215.0</td>\n",
       "      <td>1716.744792</td>\n",
       "      <td>6.258790e+05</td>\n",
       "      <td>287215.0</td>\n",
       "      <td>29</td>\n",
       "      <td>1.379878e+13</td>\n",
       "      <td>1.057932e+08</td>\n",
       "      <td>0.313629</td>\n",
       "    </tr>\n",
       "    <tr>\n",
       "      <th>2</th>\n",
       "      <td>147.39</td>\n",
       "      <td>2020-01-06</td>\n",
       "      <td>7759.1</td>\n",
       "      <td>786750.0</td>\n",
       "      <td>1.333890e+11</td>\n",
       "      <td>0.794684</td>\n",
       "      <td>287215.0</td>\n",
       "      <td>4644.067708</td>\n",
       "      <td>2.169053e+06</td>\n",
       "      <td>287215.0</td>\n",
       "      <td>30</td>\n",
       "      <td>1.379878e+13</td>\n",
       "      <td>1.057932e+08</td>\n",
       "      <td>0.313629</td>\n",
       "    </tr>\n",
       "    <tr>\n",
       "      <th>3</th>\n",
       "      <td>147.97</td>\n",
       "      <td>2020-01-07</td>\n",
       "      <td>8155.7</td>\n",
       "      <td>1010000.0</td>\n",
       "      <td>1.405572e+11</td>\n",
       "      <td>0.794684</td>\n",
       "      <td>287215.0</td>\n",
       "      <td>4644.067708</td>\n",
       "      <td>2.169053e+06</td>\n",
       "      <td>287215.0</td>\n",
       "      <td>36</td>\n",
       "      <td>1.379878e+13</td>\n",
       "      <td>1.057932e+08</td>\n",
       "      <td>0.313629</td>\n",
       "    </tr>\n",
       "    <tr>\n",
       "      <th>4</th>\n",
       "      <td>146.86</td>\n",
       "      <td>2020-01-08</td>\n",
       "      <td>8059.6</td>\n",
       "      <td>1190000.0</td>\n",
       "      <td>1.477986e+11</td>\n",
       "      <td>1.063491</td>\n",
       "      <td>318019.0</td>\n",
       "      <td>8607.500000</td>\n",
       "      <td>4.346005e+06</td>\n",
       "      <td>318019.0</td>\n",
       "      <td>38</td>\n",
       "      <td>1.379878e+13</td>\n",
       "      <td>1.057932e+08</td>\n",
       "      <td>0.797560</td>\n",
       "    </tr>\n",
       "  </tbody>\n",
       "</table>\n",
       "</div>"
      ],
      "text/plain": [
       "   gold_price       Time   price  Estimated_transaction_volume  \\\n",
       "0      143.95 2020-01-02  6967.0                      632780.0   \n",
       "1      145.86 2020-01-03  7343.1                      936290.0   \n",
       "2      147.39 2020-01-06  7759.1                      786750.0   \n",
       "3      147.97 2020-01-07  8155.7                     1010000.0   \n",
       "4      146.86 2020-01-08  8059.6                     1190000.0   \n",
       "\n",
       "   market capitalisation  block_size  number_of_transaction  Mempool_count  \\\n",
       "0           1.304230e+11    0.794684               287215.0    1716.744792   \n",
       "1           1.262808e+11    0.794684               287215.0    1716.744792   \n",
       "2           1.333890e+11    0.794684               287215.0    4644.067708   \n",
       "3           1.405572e+11    0.794684               287215.0    4644.067708   \n",
       "4           1.477986e+11    1.063491               318019.0    8607.500000   \n",
       "\n",
       "   Mempool_size  Confirmed_Transaction  google_trend  mining_difficulty  \\\n",
       "0  6.258790e+05               287215.0            26       1.379878e+13   \n",
       "1  6.258790e+05               287215.0            29       1.379878e+13   \n",
       "2  2.169053e+06               287215.0            30       1.379878e+13   \n",
       "3  2.169053e+06               287215.0            36       1.379878e+13   \n",
       "4  4.346005e+06               318019.0            38       1.379878e+13   \n",
       "\n",
       "   hash_rate_via_BTC  Transaction_fee  \n",
       "0       1.057932e+08         0.313629  \n",
       "1       1.057932e+08         0.313629  \n",
       "2       1.057932e+08         0.313629  \n",
       "3       1.057932e+08         0.313629  \n",
       "4       1.057932e+08         0.797560  "
      ]
     },
     "execution_count": 5,
     "metadata": {},
     "output_type": "execute_result"
    }
   ],
   "source": [
    "df.head()"
   ]
  },
  {
   "cell_type": "code",
   "execution_count": 6,
   "metadata": {},
   "outputs": [
    {
     "name": "stderr",
     "output_type": "stream",
     "text": [
      "/var/folders/9d/njcmv3bs67bgg_6p6s5pyjsw0000gn/T/ipykernel_11468/3134562986.py:1: FutureWarning: Series.fillna with 'method' is deprecated and will raise in a future version. Use obj.ffill() or obj.bfill() instead.\n",
      "  df['gold_price']=df['gold_price'].fillna(method='ffill')\n"
     ]
    }
   ],
   "source": [
    "df['gold_price']=df['gold_price'].fillna(method='ffill')"
   ]
  },
  {
   "cell_type": "code",
   "execution_count": 7,
   "metadata": {},
   "outputs": [
    {
     "data": {
      "text/html": [
       "<div>\n",
       "<style scoped>\n",
       "    .dataframe tbody tr th:only-of-type {\n",
       "        vertical-align: middle;\n",
       "    }\n",
       "\n",
       "    .dataframe tbody tr th {\n",
       "        vertical-align: top;\n",
       "    }\n",
       "\n",
       "    .dataframe thead th {\n",
       "        text-align: right;\n",
       "    }\n",
       "</style>\n",
       "<table border=\"1\" class=\"dataframe\">\n",
       "  <thead>\n",
       "    <tr style=\"text-align: right;\">\n",
       "      <th></th>\n",
       "      <th>gold_price</th>\n",
       "      <th>Time</th>\n",
       "      <th>price</th>\n",
       "      <th>Estimated_transaction_volume</th>\n",
       "      <th>market capitalisation</th>\n",
       "      <th>block_size</th>\n",
       "      <th>number_of_transaction</th>\n",
       "      <th>Mempool_count</th>\n",
       "      <th>Mempool_size</th>\n",
       "      <th>Confirmed_Transaction</th>\n",
       "      <th>google_trend</th>\n",
       "      <th>mining_difficulty</th>\n",
       "      <th>hash_rate_via_BTC</th>\n",
       "      <th>Transaction_fee</th>\n",
       "    </tr>\n",
       "  </thead>\n",
       "  <tbody>\n",
       "    <tr>\n",
       "      <th>0</th>\n",
       "      <td>143.95</td>\n",
       "      <td>2020-01-02</td>\n",
       "      <td>6967.0</td>\n",
       "      <td>632780.0</td>\n",
       "      <td>1.304230e+11</td>\n",
       "      <td>0.794684</td>\n",
       "      <td>287215.0</td>\n",
       "      <td>1716.744792</td>\n",
       "      <td>6.258790e+05</td>\n",
       "      <td>287215.0</td>\n",
       "      <td>26</td>\n",
       "      <td>1.379878e+13</td>\n",
       "      <td>1.057932e+08</td>\n",
       "      <td>0.313629</td>\n",
       "    </tr>\n",
       "    <tr>\n",
       "      <th>1</th>\n",
       "      <td>145.86</td>\n",
       "      <td>2020-01-03</td>\n",
       "      <td>7343.1</td>\n",
       "      <td>936290.0</td>\n",
       "      <td>1.262808e+11</td>\n",
       "      <td>0.794684</td>\n",
       "      <td>287215.0</td>\n",
       "      <td>1716.744792</td>\n",
       "      <td>6.258790e+05</td>\n",
       "      <td>287215.0</td>\n",
       "      <td>29</td>\n",
       "      <td>1.379878e+13</td>\n",
       "      <td>1.057932e+08</td>\n",
       "      <td>0.313629</td>\n",
       "    </tr>\n",
       "    <tr>\n",
       "      <th>2</th>\n",
       "      <td>147.39</td>\n",
       "      <td>2020-01-06</td>\n",
       "      <td>7759.1</td>\n",
       "      <td>786750.0</td>\n",
       "      <td>1.333890e+11</td>\n",
       "      <td>0.794684</td>\n",
       "      <td>287215.0</td>\n",
       "      <td>4644.067708</td>\n",
       "      <td>2.169053e+06</td>\n",
       "      <td>287215.0</td>\n",
       "      <td>30</td>\n",
       "      <td>1.379878e+13</td>\n",
       "      <td>1.057932e+08</td>\n",
       "      <td>0.313629</td>\n",
       "    </tr>\n",
       "    <tr>\n",
       "      <th>3</th>\n",
       "      <td>147.97</td>\n",
       "      <td>2020-01-07</td>\n",
       "      <td>8155.7</td>\n",
       "      <td>1010000.0</td>\n",
       "      <td>1.405572e+11</td>\n",
       "      <td>0.794684</td>\n",
       "      <td>287215.0</td>\n",
       "      <td>4644.067708</td>\n",
       "      <td>2.169053e+06</td>\n",
       "      <td>287215.0</td>\n",
       "      <td>36</td>\n",
       "      <td>1.379878e+13</td>\n",
       "      <td>1.057932e+08</td>\n",
       "      <td>0.313629</td>\n",
       "    </tr>\n",
       "    <tr>\n",
       "      <th>4</th>\n",
       "      <td>146.86</td>\n",
       "      <td>2020-01-08</td>\n",
       "      <td>8059.6</td>\n",
       "      <td>1190000.0</td>\n",
       "      <td>1.477986e+11</td>\n",
       "      <td>1.063491</td>\n",
       "      <td>318019.0</td>\n",
       "      <td>8607.500000</td>\n",
       "      <td>4.346005e+06</td>\n",
       "      <td>318019.0</td>\n",
       "      <td>38</td>\n",
       "      <td>1.379878e+13</td>\n",
       "      <td>1.057932e+08</td>\n",
       "      <td>0.797560</td>\n",
       "    </tr>\n",
       "  </tbody>\n",
       "</table>\n",
       "</div>"
      ],
      "text/plain": [
       "   gold_price       Time   price  Estimated_transaction_volume  \\\n",
       "0      143.95 2020-01-02  6967.0                      632780.0   \n",
       "1      145.86 2020-01-03  7343.1                      936290.0   \n",
       "2      147.39 2020-01-06  7759.1                      786750.0   \n",
       "3      147.97 2020-01-07  8155.7                     1010000.0   \n",
       "4      146.86 2020-01-08  8059.6                     1190000.0   \n",
       "\n",
       "   market capitalisation  block_size  number_of_transaction  Mempool_count  \\\n",
       "0           1.304230e+11    0.794684               287215.0    1716.744792   \n",
       "1           1.262808e+11    0.794684               287215.0    1716.744792   \n",
       "2           1.333890e+11    0.794684               287215.0    4644.067708   \n",
       "3           1.405572e+11    0.794684               287215.0    4644.067708   \n",
       "4           1.477986e+11    1.063491               318019.0    8607.500000   \n",
       "\n",
       "   Mempool_size  Confirmed_Transaction  google_trend  mining_difficulty  \\\n",
       "0  6.258790e+05               287215.0            26       1.379878e+13   \n",
       "1  6.258790e+05               287215.0            29       1.379878e+13   \n",
       "2  2.169053e+06               287215.0            30       1.379878e+13   \n",
       "3  2.169053e+06               287215.0            36       1.379878e+13   \n",
       "4  4.346005e+06               318019.0            38       1.379878e+13   \n",
       "\n",
       "   hash_rate_via_BTC  Transaction_fee  \n",
       "0       1.057932e+08         0.313629  \n",
       "1       1.057932e+08         0.313629  \n",
       "2       1.057932e+08         0.313629  \n",
       "3       1.057932e+08         0.313629  \n",
       "4       1.057932e+08         0.797560  "
      ]
     },
     "execution_count": 7,
     "metadata": {},
     "output_type": "execute_result"
    }
   ],
   "source": [
    "df.head()"
   ]
  },
  {
   "cell_type": "code",
   "execution_count": 8,
   "metadata": {},
   "outputs": [
    {
     "data": {
      "text/html": [
       "<div>\n",
       "<style scoped>\n",
       "    .dataframe tbody tr th:only-of-type {\n",
       "        vertical-align: middle;\n",
       "    }\n",
       "\n",
       "    .dataframe tbody tr th {\n",
       "        vertical-align: top;\n",
       "    }\n",
       "\n",
       "    .dataframe thead th {\n",
       "        text-align: right;\n",
       "    }\n",
       "</style>\n",
       "<table border=\"1\" class=\"dataframe\">\n",
       "  <thead>\n",
       "    <tr style=\"text-align: right;\">\n",
       "      <th></th>\n",
       "      <th>gold_price</th>\n",
       "      <th>Time</th>\n",
       "      <th>price</th>\n",
       "      <th>Estimated_transaction_volume</th>\n",
       "      <th>market capitalisation</th>\n",
       "      <th>block_size</th>\n",
       "      <th>number_of_transaction</th>\n",
       "      <th>Mempool_count</th>\n",
       "      <th>Mempool_size</th>\n",
       "      <th>Confirmed_Transaction</th>\n",
       "      <th>google_trend</th>\n",
       "      <th>mining_difficulty</th>\n",
       "      <th>hash_rate_via_BTC</th>\n",
       "      <th>Transaction_fee</th>\n",
       "    </tr>\n",
       "  </thead>\n",
       "  <tbody>\n",
       "    <tr>\n",
       "      <th>1359</th>\n",
       "      <td>303.65</td>\n",
       "      <td>2025-04-23</td>\n",
       "      <td>93697.7</td>\n",
       "      <td>90350.0</td>\n",
       "      <td>1.858588e+12</td>\n",
       "      <td>1.572216</td>\n",
       "      <td>418203.0</td>\n",
       "      <td>21466.583333</td>\n",
       "      <td>1.274924e+07</td>\n",
       "      <td>418203.0</td>\n",
       "      <td>53</td>\n",
       "      <td>1.232344e+14</td>\n",
       "      <td>8.993776e+08</td>\n",
       "      <td>2.523899</td>\n",
       "    </tr>\n",
       "    <tr>\n",
       "      <th>1360</th>\n",
       "      <td>308.07</td>\n",
       "      <td>2025-04-24</td>\n",
       "      <td>93980.3</td>\n",
       "      <td>66680.0</td>\n",
       "      <td>1.858660e+12</td>\n",
       "      <td>1.572216</td>\n",
       "      <td>418203.0</td>\n",
       "      <td>21466.583333</td>\n",
       "      <td>1.274924e+07</td>\n",
       "      <td>418203.0</td>\n",
       "      <td>43</td>\n",
       "      <td>1.232344e+14</td>\n",
       "      <td>8.237550e+08</td>\n",
       "      <td>2.523899</td>\n",
       "    </tr>\n",
       "    <tr>\n",
       "      <th>1361</th>\n",
       "      <td>304.73</td>\n",
       "      <td>2025-04-25</td>\n",
       "      <td>94676.9</td>\n",
       "      <td>92040.0</td>\n",
       "      <td>1.864298e+12</td>\n",
       "      <td>1.572216</td>\n",
       "      <td>418203.0</td>\n",
       "      <td>15415.234375</td>\n",
       "      <td>1.714119e+07</td>\n",
       "      <td>418203.0</td>\n",
       "      <td>42</td>\n",
       "      <td>1.232344e+14</td>\n",
       "      <td>8.237550e+08</td>\n",
       "      <td>2.523899</td>\n",
       "    </tr>\n",
       "    <tr>\n",
       "      <th>1362</th>\n",
       "      <td>309.07</td>\n",
       "      <td>2025-04-28</td>\n",
       "      <td>94995.0</td>\n",
       "      <td>73630.0</td>\n",
       "      <td>1.862772e+12</td>\n",
       "      <td>1.603343</td>\n",
       "      <td>441827.0</td>\n",
       "      <td>8253.588542</td>\n",
       "      <td>7.712119e+06</td>\n",
       "      <td>441827.0</td>\n",
       "      <td>41</td>\n",
       "      <td>1.232344e+14</td>\n",
       "      <td>8.296374e+08</td>\n",
       "      <td>1.104718</td>\n",
       "    </tr>\n",
       "    <tr>\n",
       "      <th>1363</th>\n",
       "      <td>306.06</td>\n",
       "      <td>2025-04-29</td>\n",
       "      <td>94269.8</td>\n",
       "      <td>59860.0</td>\n",
       "      <td>1.887067e+12</td>\n",
       "      <td>1.603343</td>\n",
       "      <td>441827.0</td>\n",
       "      <td>8253.588542</td>\n",
       "      <td>7.712119e+06</td>\n",
       "      <td>441827.0</td>\n",
       "      <td>40</td>\n",
       "      <td>1.232344e+14</td>\n",
       "      <td>8.296374e+08</td>\n",
       "      <td>1.104718</td>\n",
       "    </tr>\n",
       "  </tbody>\n",
       "</table>\n",
       "</div>"
      ],
      "text/plain": [
       "      gold_price       Time    price  Estimated_transaction_volume  \\\n",
       "1359      303.65 2025-04-23  93697.7                       90350.0   \n",
       "1360      308.07 2025-04-24  93980.3                       66680.0   \n",
       "1361      304.73 2025-04-25  94676.9                       92040.0   \n",
       "1362      309.07 2025-04-28  94995.0                       73630.0   \n",
       "1363      306.06 2025-04-29  94269.8                       59860.0   \n",
       "\n",
       "      market capitalisation  block_size  number_of_transaction  Mempool_count  \\\n",
       "1359           1.858588e+12    1.572216               418203.0   21466.583333   \n",
       "1360           1.858660e+12    1.572216               418203.0   21466.583333   \n",
       "1361           1.864298e+12    1.572216               418203.0   15415.234375   \n",
       "1362           1.862772e+12    1.603343               441827.0    8253.588542   \n",
       "1363           1.887067e+12    1.603343               441827.0    8253.588542   \n",
       "\n",
       "      Mempool_size  Confirmed_Transaction  google_trend  mining_difficulty  \\\n",
       "1359  1.274924e+07               418203.0            53       1.232344e+14   \n",
       "1360  1.274924e+07               418203.0            43       1.232344e+14   \n",
       "1361  1.714119e+07               418203.0            42       1.232344e+14   \n",
       "1362  7.712119e+06               441827.0            41       1.232344e+14   \n",
       "1363  7.712119e+06               441827.0            40       1.232344e+14   \n",
       "\n",
       "      hash_rate_via_BTC  Transaction_fee  \n",
       "1359       8.993776e+08         2.523899  \n",
       "1360       8.237550e+08         2.523899  \n",
       "1361       8.237550e+08         2.523899  \n",
       "1362       8.296374e+08         1.104718  \n",
       "1363       8.296374e+08         1.104718  "
      ]
     },
     "execution_count": 8,
     "metadata": {},
     "output_type": "execute_result"
    }
   ],
   "source": [
    "df.tail()"
   ]
  },
  {
   "cell_type": "markdown",
   "metadata": {},
   "source": [
    "# Removing NAN value from data"
   ]
  },
  {
   "cell_type": "code",
   "execution_count": 9,
   "metadata": {},
   "outputs": [],
   "source": [
    "df = df.dropna()"
   ]
  },
  {
   "cell_type": "markdown",
   "metadata": {},
   "source": [
    "# Dependent Variable"
   ]
  },
  {
   "cell_type": "code",
   "execution_count": 10,
   "metadata": {},
   "outputs": [],
   "source": [
    "y = np.where(df['price'].shift(-1) > df['price'],1,-1)"
   ]
  },
  {
   "cell_type": "markdown",
   "metadata": {},
   "source": [
    "# Features included in the models"
   ]
  },
  {
   "cell_type": "code",
   "execution_count": 11,
   "metadata": {},
   "outputs": [],
   "source": [
    "X=df.drop(['Time'], axis=1)"
   ]
  },
  {
   "cell_type": "code",
   "execution_count": 12,
   "metadata": {},
   "outputs": [],
   "source": [
    "from sklearn.preprocessing import MinMaxScaler\n",
    "scaler = MinMaxScaler(feature_range=(0, 1))\n",
    "X= scaler.fit_transform(X)"
   ]
  },
  {
   "cell_type": "markdown",
   "metadata": {},
   "source": [
    "# Splitting the data as train and test"
   ]
  },
  {
   "cell_type": "code",
   "execution_count": 13,
   "metadata": {},
   "outputs": [],
   "source": [
    "t=.8\n",
    "t = int(t*len(df))\n",
    "# Train dataset\n",
    "X_train = X[:t]\n",
    "y_train = y[:t]\n",
    "# Test dataset\n",
    "X_test = X[t:]\n",
    "y_test = y[t:]"
   ]
  },
  {
   "cell_type": "markdown",
   "metadata": {},
   "source": [
    "# Models"
   ]
  },
  {
   "cell_type": "code",
   "execution_count": 14,
   "metadata": {},
   "outputs": [],
   "source": [
    "\n",
    "scoring = 'accuracy'\n",
    "# Append the models to the models list\n",
    "models = []\n",
    "models.append(('LR' , LogisticRegression()))\n",
    "models.append(('LDA' , LinearDiscriminantAnalysis()))\n",
    "models.append(('KNN' , KNeighborsClassifier()))\n",
    "models.append(('CART' , DecisionTreeClassifier()))\n",
    "models.append(('NB' , GaussianNB()))\n",
    "models.append(('SVM' , SVC()))\n",
    "models.append(('RF' , RandomForestClassifier(n_estimators=50)))\n",
    "models.append(('XGBoost', XGBClassifier()))\n",
    "models.append(('QDA' , QuadraticDiscriminantAnalysis()))\n"
   ]
  },
  {
   "cell_type": "markdown",
   "metadata": {},
   "source": [
    "# Results"
   ]
  },
  {
   "cell_type": "code",
   "execution_count": 15,
   "metadata": {},
   "outputs": [
    {
     "name": "stdout",
     "output_type": "stream",
     "text": [
      "Original unique values in y: [-1  1]\n",
      "Converted unique values in y: [0 1]\n",
      "\n",
      "==================================================\n",
      "Model: LR\n",
      "Accuracy Score: 0.4945054945054945\n",
      "F1: 0.09210526315789473\n",
      "Recall: 0.051094890510948905\n",
      "Precision: 0.4666666666666667\n",
      "Confusion Matrix:\n",
      "Predicted    0  1\n",
      "Actual           \n",
      "0          128  8\n",
      "1          130  7\n"
     ]
    },
    {
     "data": {
      "image/png": "[encoded data removed]",
      "text/plain": [
       "<Figure size 800x600 with 1 Axes>"
      ]
     },
     "metadata": {},
     "output_type": "display_data"
    },
    {
     "name": "stdout",
     "output_type": "stream",
     "text": [
      "Classification Report:\n",
      "              precision    recall  f1-score   support\n",
      "\n",
      "           0       0.50      0.94      0.65       136\n",
      "           1       0.47      0.05      0.09       137\n",
      "\n",
      "    accuracy                           0.49       273\n",
      "   macro avg       0.48      0.50      0.37       273\n",
      "weighted avg       0.48      0.49      0.37       273\n",
      "\n",
      "==================================================\n",
      "\n",
      "==================================================\n",
      "Model: LDA\n",
      "Accuracy Score: 0.5128205128205128\n",
      "F1: 0.3813953488372093\n",
      "Recall: 0.29927007299270075\n",
      "Precision: 0.5256410256410257\n",
      "Confusion Matrix:\n",
      "Predicted   0   1\n",
      "Actual           \n",
      "0          99  37\n",
      "1          96  41\n"
     ]
    },
    {
     "data": {
      "image/png": "[encoded data removed]",
      "text/plain": [
       "<Figure size 800x600 with 1 Axes>"
      ]
     },
     "metadata": {},
     "output_type": "display_data"
    },
    {
     "name": "stdout",
     "output_type": "stream",
     "text": [
      "Classification Report:\n",
      "              precision    recall  f1-score   support\n",
      "\n",
      "           0       0.51      0.73      0.60       136\n",
      "           1       0.53      0.30      0.38       137\n",
      "\n",
      "    accuracy                           0.51       273\n",
      "   macro avg       0.52      0.51      0.49       273\n",
      "weighted avg       0.52      0.51      0.49       273\n",
      "\n",
      "==================================================\n",
      "\n",
      "==================================================\n",
      "Model: KNN\n",
      "Accuracy Score: 0.48717948717948717\n",
      "F1: 0.38596491228070173\n",
      "Recall: 0.32116788321167883\n",
      "Precision: 0.4835164835164835\n",
      "Confusion Matrix:\n",
      "Predicted   0   1\n",
      "Actual           \n",
      "0          89  47\n",
      "1          93  44\n"
     ]
    },
    {
     "data": {
      "image/png": "[encoded data removed]",
      "text/plain": [
       "<Figure size 800x600 with 1 Axes>"
      ]
     },
     "metadata": {},
     "output_type": "display_data"
    },
    {
     "name": "stdout",
     "output_type": "stream",
     "text": [
      "Classification Report:\n",
      "              precision    recall  f1-score   support\n",
      "\n",
      "           0       0.49      0.65      0.56       136\n",
      "           1       0.48      0.32      0.39       137\n",
      "\n",
      "    accuracy                           0.49       273\n",
      "   macro avg       0.49      0.49      0.47       273\n",
      "weighted avg       0.49      0.49      0.47       273\n",
      "\n",
      "==================================================\n",
      "\n",
      "==================================================\n",
      "Model: CART\n",
      "Accuracy Score: 0.4981684981684982\n",
      "F1: 0.0\n",
      "Recall: 0.0\n",
      "Precision: 0.0\n",
      "Confusion Matrix:\n",
      "Predicted    0\n",
      "Actual        \n",
      "0          136\n",
      "1          137\n"
     ]
    },
    {
     "name": "stderr",
     "output_type": "stream",
     "text": [
      "/Library/Frameworks/Python.framework/Versions/3.13/lib/python3.13/site-packages/sklearn/metrics/_classification.py:1565: UndefinedMetricWarning: Precision is ill-defined and being set to 0.0 due to no predicted samples. Use `zero_division` parameter to control this behavior.\n",
      "  _warn_prf(average, modifier, f\"{metric.capitalize()} is\", len(result))\n"
     ]
    },
    {
     "data": {
      "image/png": "[encoded data removed]",
      "text/plain": [
       "<Figure size 800x600 with 1 Axes>"
      ]
     },
     "metadata": {},
     "output_type": "display_data"
    },
    {
     "name": "stdout",
     "output_type": "stream",
     "text": [
      "Classification Report:\n",
      "              precision    recall  f1-score   support\n",
      "\n",
      "           0       0.50      1.00      0.67       136\n",
      "           1       0.00      0.00      0.00       137\n",
      "\n",
      "    accuracy                           0.50       273\n",
      "   macro avg       0.25      0.50      0.33       273\n",
      "weighted avg       0.25      0.50      0.33       273\n",
      "\n",
      "==================================================\n",
      "\n",
      "==================================================\n",
      "Model: NB\n",
      "Accuracy Score: 0.5091575091575091\n",
      "F1: 0.6699507389162561\n",
      "Recall: 0.9927007299270073\n",
      "Precision: 0.5055762081784386\n",
      "Confusion Matrix:\n",
      "Predicted  0    1\n",
      "Actual           \n",
      "0          3  133\n",
      "1          1  136\n"
     ]
    },
    {
     "name": "stderr",
     "output_type": "stream",
     "text": [
      "/Library/Frameworks/Python.framework/Versions/3.13/lib/python3.13/site-packages/sklearn/metrics/_classification.py:1565: UndefinedMetricWarning: Precision is ill-defined and being set to 0.0 in labels with no predicted samples. Use `zero_division` parameter to control this behavior.\n",
      "  _warn_prf(average, modifier, f\"{metric.capitalize()} is\", len(result))\n",
      "/Library/Frameworks/Python.framework/Versions/3.13/lib/python3.13/site-packages/sklearn/metrics/_classification.py:1565: UndefinedMetricWarning: Precision is ill-defined and being set to 0.0 in labels with no predicted samples. Use `zero_division` parameter to control this behavior.\n",
      "  _warn_prf(average, modifier, f\"{metric.capitalize()} is\", len(result))\n",
      "/Library/Frameworks/Python.framework/Versions/3.13/lib/python3.13/site-packages/sklearn/metrics/_classification.py:1565: UndefinedMetricWarning: Precision is ill-defined and being set to 0.0 in labels with no predicted samples. Use `zero_division` parameter to control this behavior.\n",
      "  _warn_prf(average, modifier, f\"{metric.capitalize()} is\", len(result))\n"
     ]
    },
    {
     "data": {
      "image/png": "[encoded data removed]",
      "text/plain": [
       "<Figure size 800x600 with 1 Axes>"
      ]
     },
     "metadata": {},
     "output_type": "display_data"
    },
    {
     "name": "stdout",
     "output_type": "stream",
     "text": [
      "Classification Report:\n",
      "              precision    recall  f1-score   support\n",
      "\n",
      "           0       0.75      0.02      0.04       136\n",
      "           1       0.51      0.99      0.67       137\n",
      "\n",
      "    accuracy                           0.51       273\n",
      "   macro avg       0.63      0.51      0.36       273\n",
      "weighted avg       0.63      0.51      0.36       273\n",
      "\n",
      "==================================================\n",
      "\n",
      "==================================================\n",
      "Model: QDA\n",
      "Accuracy Score: 0.5018315018315018\n",
      "F1: 0.31313131313131315\n",
      "Recall: 0.22627737226277372\n",
      "Precision: 0.5081967213114754\n",
      "Confusion Matrix:\n",
      "Predicted    0   1\n",
      "Actual            \n",
      "0          106  30\n",
      "1          106  31\n"
     ]
    },
    {
     "name": "stderr",
     "output_type": "stream",
     "text": [
      "/Library/Frameworks/Python.framework/Versions/3.13/lib/python3.13/site-packages/sklearn/discriminant_analysis.py:1024: LinAlgWarning: The covariance matrix of class 0 is not full rank. Increasing the value of parameter `reg_param` might help reducing the collinearity.\n",
      "  warnings.warn(\n",
      "/Library/Frameworks/Python.framework/Versions/3.13/lib/python3.13/site-packages/sklearn/discriminant_analysis.py:1024: LinAlgWarning: The covariance matrix of class 1 is not full rank. Increasing the value of parameter `reg_param` might help reducing the collinearity.\n",
      "  warnings.warn(\n"
     ]
    },
    {
     "data": {
      "image/png": "[encoded data removed]",
      "text/plain": [
       "<Figure size 800x600 with 1 Axes>"
      ]
     },
     "metadata": {},
     "output_type": "display_data"
    },
    {
     "name": "stdout",
     "output_type": "stream",
     "text": [
      "Classification Report:\n",
      "              precision    recall  f1-score   support\n",
      "\n",
      "           0       0.50      0.78      0.61       136\n",
      "           1       0.51      0.23      0.31       137\n",
      "\n",
      "    accuracy                           0.50       273\n",
      "   macro avg       0.50      0.50      0.46       273\n",
      "weighted avg       0.50      0.50      0.46       273\n",
      "\n",
      "==================================================\n",
      "\n",
      "==================================================\n",
      "Model: SVM\n",
      "Accuracy Score: 0.5018315018315018\n",
      "F1: 0.48484848484848486\n",
      "Recall: 0.46715328467153283\n",
      "Precision: 0.5039370078740157\n",
      "Confusion Matrix:\n",
      "Predicted   0   1\n",
      "Actual           \n",
      "0          73  63\n",
      "1          73  64\n"
     ]
    },
    {
     "data": {
      "image/png": "[encoded data removed]",
      "text/plain": [
       "<Figure size 800x600 with 1 Axes>"
      ]
     },
     "metadata": {},
     "output_type": "display_data"
    },
    {
     "name": "stdout",
     "output_type": "stream",
     "text": [
      "Classification Report:\n",
      "              precision    recall  f1-score   support\n",
      "\n",
      "           0       0.50      0.54      0.52       136\n",
      "           1       0.50      0.47      0.48       137\n",
      "\n",
      "    accuracy                           0.50       273\n",
      "   macro avg       0.50      0.50      0.50       273\n",
      "weighted avg       0.50      0.50      0.50       273\n",
      "\n",
      "==================================================\n",
      "\n",
      "==================================================\n",
      "Model: RF\n",
      "Accuracy Score: 0.5054945054945055\n",
      "F1: 0.18181818181818182\n",
      "Recall: 0.10948905109489052\n",
      "Precision: 0.5357142857142857\n",
      "Confusion Matrix:\n",
      "Predicted    0   1\n",
      "Actual            \n",
      "0          123  13\n",
      "1          122  15\n"
     ]
    },
    {
     "data": {
      "image/png": "[encoded data removed]",
      "text/plain": [
       "<Figure size 800x600 with 1 Axes>"
      ]
     },
     "metadata": {},
     "output_type": "display_data"
    },
    {
     "name": "stdout",
     "output_type": "stream",
     "text": [
      "Classification Report:\n",
      "              precision    recall  f1-score   support\n",
      "\n",
      "           0       0.50      0.90      0.65       136\n",
      "           1       0.54      0.11      0.18       137\n",
      "\n",
      "    accuracy                           0.51       273\n",
      "   macro avg       0.52      0.51      0.41       273\n",
      "weighted avg       0.52      0.51      0.41       273\n",
      "\n",
      "==================================================\n",
      "\n",
      "==================================================\n",
      "Model: XGB\n",
      "Accuracy Score: 0.5201465201465202\n",
      "F1: 0.38497652582159625\n",
      "Recall: 0.29927007299270075\n",
      "Precision: 0.5394736842105263\n",
      "Confusion Matrix:\n",
      "Predicted    0   1\n",
      "Actual            \n",
      "0          101  35\n",
      "1           96  41\n"
     ]
    },
    {
     "data": {
      "image/png": "[encoded data removed]",
      "text/plain": [
       "<Figure size 800x600 with 1 Axes>"
      ]
     },
     "metadata": {},
     "output_type": "display_data"
    },
    {
     "name": "stdout",
     "output_type": "stream",
     "text": [
      "Classification Report:\n",
      "              precision    recall  f1-score   support\n",
      "\n",
      "           0       0.51      0.74      0.61       136\n",
      "           1       0.54      0.30      0.38       137\n",
      "\n",
      "    accuracy                           0.52       273\n",
      "   macro avg       0.53      0.52      0.50       273\n",
      "weighted avg       0.53      0.52      0.50       273\n",
      "\n",
      "==================================================\n",
      "\n",
      "==================================================\n",
      "Model: ADA\n",
      "Accuracy Score: 0.5238095238095238\n",
      "F1: 0.13333333333333333\n",
      "Recall: 0.072992700729927\n",
      "Precision: 0.7692307692307693\n",
      "Confusion Matrix:\n",
      "Predicted    0   1\n",
      "Actual            \n",
      "0          133   3\n",
      "1          127  10\n"
     ]
    },
    {
     "data": {
      "image/png": "[encoded data removed]",
      "text/plain": [
       "<Figure size 800x600 with 1 Axes>"
      ]
     },
     "metadata": {},
     "output_type": "display_data"
    },
    {
     "name": "stdout",
     "output_type": "stream",
     "text": [
      "Classification Report:\n",
      "              precision    recall  f1-score   support\n",
      "\n",
      "           0       0.51      0.98      0.67       136\n",
      "           1       0.77      0.07      0.13       137\n",
      "\n",
      "    accuracy                           0.52       273\n",
      "   macro avg       0.64      0.53      0.40       273\n",
      "weighted avg       0.64      0.52      0.40       273\n",
      "\n",
      "==================================================\n",
      "\n",
      "==================================================\n",
      "Model: GB\n",
      "Accuracy Score: 0.5128205128205128\n",
      "F1: 0.06993006993006994\n",
      "Recall: 0.0364963503649635\n",
      "Precision: 0.8333333333333334\n",
      "Confusion Matrix:\n",
      "Predicted    0  1\n",
      "Actual           \n",
      "0          135  1\n",
      "1          132  5\n"
     ]
    },
    {
     "data": {
      "image/png": "[encoded data removed]",
      "text/plain": [
       "<Figure size 800x600 with 1 Axes>"
      ]
     },
     "metadata": {},
     "output_type": "display_data"
    },
    {
     "name": "stdout",
     "output_type": "stream",
     "text": [
      "Classification Report:\n",
      "              precision    recall  f1-score   support\n",
      "\n",
      "           0       0.51      0.99      0.67       136\n",
      "           1       0.83      0.04      0.07       137\n",
      "\n",
      "    accuracy                           0.51       273\n",
      "   macro avg       0.67      0.51      0.37       273\n",
      "weighted avg       0.67      0.51      0.37       273\n",
      "\n",
      "==================================================\n",
      "\n",
      "==================================================\n",
      "Model: ET\n",
      "Accuracy Score: 0.5128205128205128\n",
      "F1: 0.19393939393939394\n",
      "Recall: 0.11678832116788321\n",
      "Precision: 0.5714285714285714\n",
      "Confusion Matrix:\n",
      "Predicted    0   1\n",
      "Actual            \n",
      "0          124  12\n",
      "1          121  16\n"
     ]
    },
    {
     "data": {
      "image/png": "[encoded data removed]",
      "text/plain": [
       "<Figure size 800x600 with 1 Axes>"
      ]
     },
     "metadata": {},
     "output_type": "display_data"
    },
    {
     "name": "stdout",
     "output_type": "stream",
     "text": [
      "Classification Report:\n",
      "              precision    recall  f1-score   support\n",
      "\n",
      "           0       0.51      0.91      0.65       136\n",
      "           1       0.57      0.12      0.19       137\n",
      "\n",
      "    accuracy                           0.51       273\n",
      "   macro avg       0.54      0.51      0.42       273\n",
      "weighted avg       0.54      0.51      0.42       273\n",
      "\n",
      "==================================================\n",
      "\n",
      "==================================================\n",
      "Model: CAT\n",
      "Accuracy Score: 0.5018315018315018\n",
      "F1: 0.17073170731707318\n",
      "Recall: 0.10218978102189781\n",
      "Precision: 0.5185185185185185\n",
      "Confusion Matrix:\n",
      "Predicted    0   1\n",
      "Actual            \n",
      "0          123  13\n",
      "1          123  14\n"
     ]
    },
    {
     "data": {
      "image/png": "[encoded data removed]",
      "text/plain": [
       "<Figure size 800x600 with 1 Axes>"
      ]
     },
     "metadata": {},
     "output_type": "display_data"
    },
    {
     "name": "stdout",
     "output_type": "stream",
     "text": [
      "Classification Report:\n",
      "              precision    recall  f1-score   support\n",
      "\n",
      "           0       0.50      0.90      0.64       136\n",
      "           1       0.52      0.10      0.17       137\n",
      "\n",
      "    accuracy                           0.50       273\n",
      "   macro avg       0.51      0.50      0.41       273\n",
      "weighted avg       0.51      0.50      0.41       273\n",
      "\n",
      "==================================================\n",
      "\n",
      "Model Comparison:\n",
      "   Model  Accuracy        F1    Recall  Precision\n",
      "0    ADA  0.523810  0.133333  0.072993   0.769231\n",
      "1    XGB  0.520147  0.384977  0.299270   0.539474\n",
      "2    LDA  0.512821  0.381395  0.299270   0.525641\n",
      "3     GB  0.512821  0.069930  0.036496   0.833333\n",
      "4     ET  0.512821  0.193939  0.116788   0.571429\n",
      "5     NB  0.509158  0.669951  0.992701   0.505576\n",
      "6     RF  0.505495  0.181818  0.109489   0.535714\n",
      "7    QDA  0.501832  0.313131  0.226277   0.508197\n",
      "8    SVM  0.501832  0.484848  0.467153   0.503937\n",
      "9    CAT  0.501832  0.170732  0.102190   0.518519\n",
      "10  CART  0.498168  0.000000  0.000000   0.000000\n",
      "11    LR  0.494505  0.092105  0.051095   0.466667\n",
      "12   KNN  0.487179  0.385965  0.321168   0.483516\n"
     ]
    },
    {
     "data": {
      "image/png": "[encoded data removed]",
      "text/plain": [
       "<Figure size 1400x800 with 1 Axes>"
      ]
     },
     "metadata": {},
     "output_type": "display_data"
    }
   ],
   "source": [
    "# Import CatBoost at the top with your other imports\n",
    "from catboost import CatBoostClassifier\n",
    "import matplotlib.pyplot as plt\n",
    "import seaborn as sns\n",
    "from sklearn.metrics import confusion_matrix, classification_report\n",
    "\n",
    "# Define models to include in the comparison\n",
    "models = []\n",
    "models.append(('LR', LogisticRegression(max_iter=1000)))\n",
    "models.append(('LDA', LinearDiscriminantAnalysis()))\n",
    "models.append(('KNN', KNeighborsClassifier()))\n",
    "models.append(('CART', DecisionTreeClassifier()))\n",
    "models.append(('NB', GaussianNB()))\n",
    "models.append(('QDA', QuadraticDiscriminantAnalysis()))\n",
    "models.append(('SVM', SVC()))\n",
    "models.append(('RF', RandomForestClassifier()))\n",
    "models.append(('XGB', XGBClassifier()))\n",
    "models.append(('ADA', AdaBoostClassifier()))\n",
    "models.append(('GB', GradientBoostingClassifier()))\n",
    "models.append(('ET', ExtraTreesClassifier()))\n",
    "# Add CatBoost classifier\n",
    "models.append(('CAT', CatBoostClassifier(iterations=100, learning_rate=0.1, verbose=0)))\n",
    "\n",
    "# Convert target labels from [-1, 1] to [0, 1]\n",
    "print(\"Original unique values in y:\", np.unique(y))\n",
    "if -1 in np.unique(y):\n",
    "    y = (y + 1) // 2\n",
    "    y_train = (y_train + 1) // 2\n",
    "    y_test = (y_test + 1) // 2\n",
    "    print(\"Converted unique values in y:\", np.unique(y))\n",
    "\n",
    "# Collect metrics for comparison\n",
    "all_metrics = []\n",
    "\n",
    "# Train and evaluate each model\n",
    "for name, model in models:\n",
    "    # Train the model\n",
    "    clf = model\n",
    "    clf.fit(X_train, y_train)\n",
    "    y_pred = clf.predict(X_test)\n",
    "    \n",
    "    # Calculate metrics\n",
    "    accu_score = accuracy_score(y_test, y_pred)\n",
    "    F1_score = f1_score(y_test, y_pred)\n",
    "    Recall = recall_score(y_test, y_pred)\n",
    "    Precision = precision_score(y_test, y_pred)\n",
    "    \n",
    "    # Create confusion matrix\n",
    "    conf_matrix = pd.crosstab(y_test, y_pred, rownames=['Actual'], colnames=['Predicted'], margins=False)\n",
    "    \n",
    "    # Store metrics for comparison\n",
    "    all_metrics.append({\n",
    "        'Model': name,\n",
    "        'Accuracy': accu_score,\n",
    "        'F1': F1_score,\n",
    "        'Recall': Recall,\n",
    "        'Precision': Precision\n",
    "    })\n",
    "    \n",
    "    # Print individual model results\n",
    "    print(\"\\n\" + \"=\"*50)\n",
    "    print(\"Model: \" + name)\n",
    "    print('Accuracy Score:', accu_score)\n",
    "    print('F1: ' + str(F1_score))\n",
    "    print('Recall: ' + str(Recall))\n",
    "    print('Precision: ' + str(Precision))\n",
    "    print('Confusion Matrix:')\n",
    "    print(conf_matrix)\n",
    "    \n",
    "    # Plot confusion matrix\n",
    "    plt.figure(figsize=(8, 6))\n",
    "    sns.heatmap(conf_matrix, annot=True, fmt='d', cmap='Blues', cbar=False)\n",
    "    plt.title(f'Confusion Matrix - {name}')\n",
    "    plt.show()\n",
    "    \n",
    "    # Print classification report\n",
    "    print('Classification Report:')\n",
    "    print(classification_report(y_test, y_pred))\n",
    "    print(\"=\"*50)\n",
    "\n",
    "# Create comparison DataFrame\n",
    "metrics_df = pd.DataFrame(all_metrics)\n",
    "metrics_df = metrics_df.sort_values(by='Accuracy', ascending=False).reset_index(drop=True)\n",
    "\n",
    "# Display comparison table\n",
    "print(\"\\nModel Comparison:\")\n",
    "print(metrics_df)\n",
    "\n",
    "# Plot model comparisons\n",
    "plt.figure(figsize=(14, 8))\n",
    "metrics = ['Accuracy', 'Precision', 'Recall', 'F1']\n",
    "bar_width = 0.2\n",
    "opacity = 0.8\n",
    "\n",
    "for i, metric in enumerate(metrics):\n",
    "    plt.bar(\n",
    "        np.arange(len(metrics_df)) + i*bar_width, \n",
    "        metrics_df[metric], \n",
    "        bar_width, \n",
    "        alpha=opacity, \n",
    "        label=metric\n",
    "    )\n",
    "\n",
    "plt.xlabel('Modelo')\n",
    "plt.ylabel('Puntuación')\n",
    "plt.title('Comparación de Rendimiento de Modelos')\n",
    "plt.xticks(np.arange(len(metrics_df)) + bar_width*1.5, metrics_df['Model'], rotation=45)\n",
    "plt.legend()\n",
    "plt.tight_layout()\n",
    "plt.show()\n",
    "   \n",
    "    "
   ]
  },
  {
   "cell_type": "code",
   "execution_count": null,
   "metadata": {},
   "outputs": [],
   "source": []
  }
 ],
 "metadata": {
  "kernelspec": {
   "display_name": "Python 3",
   "language": "python",
   "name": "python3"
  },
  "language_info": {
   "codemirror_mode": {
    "name": "ipython",
    "version": 3
   },
   "file_extension": ".py",
   "mimetype": "text/x-python",
   "name": "python",
   "nbconvert_exporter": "python",
   "pygments_lexer": "ipython3",
   "version": "3.13.2"
  }
 },
 "nbformat": 4,
 "nbformat_minor": 2
}
